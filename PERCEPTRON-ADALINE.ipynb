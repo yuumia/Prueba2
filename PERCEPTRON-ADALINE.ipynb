{
 "cells": [
  {
   "cell_type": "code",
   "execution_count": 1,
   "id": "initial_id",
   "metadata": {
    "ExecuteTime": {
     "end_time": "2024-03-13T07:55:04.343694Z",
     "start_time": "2024-03-13T07:55:04.339368Z"
    }
   },
   "outputs": [],
   "source": [
    "#Puerta AND\n",
    "\"\"\"\n",
    "data = [ [ 0, 0],\n",
    "        [ 0, 1],\n",
    "         [ 1, 0],\n",
    "        [ 1, 1] ]\n",
    "target = [0,\n",
    "         0,\n",
    "         0,\n",
    "         1 ]\n",
    "\"\"\""
   ]
  },
  {
   "cell_type": "code",
   "execution_count": 15,
   "id": "974a8980780c4741",
   "metadata": {
    "collapsed": false,
    "ExecuteTime": {
     "end_time": "2024-03-13T08:05:02.696743Z",
     "start_time": "2024-03-13T08:05:02.646376Z"
    }
   },
   "outputs": [],
   "source": [
    "# OR GATE\n",
    "\n",
    "data = [ [ 0, 0],\n",
    "         [ 0, 1],\n",
    "         [ 1, 0],\n",
    "         [ 1, 1] ]\n",
    "target = [  0,\n",
    "            1,\n",
    "            1,\n",
    "            1 ]\n"
   ]
  },
  {
   "cell_type": "markdown",
   "id": "7bfb9eda0f46b726",
   "metadata": {
    "collapsed": false
   },
   "source": [
    "AGREGANDO LOS DATOS DE ENTRENAMIENTO"
   ]
  },
  {
   "cell_type": "code",
   "execution_count": 16,
   "id": "3499992ae01c9af6",
   "metadata": {
    "collapsed": false,
    "ExecuteTime": {
     "end_time": "2024-03-13T08:05:02.743037Z",
     "start_time": "2024-03-13T08:05:02.734780Z"
    }
   },
   "outputs": [
    {
     "name": "stdout",
     "output_type": "stream",
     "text": [
      "Data: [[0, 0], [0, 1], [1, 0], [1, 1]]\n",
      "target [0, 1, 1, 1]\n"
     ]
    }
   ],
   "source": [
    "print (\"Data:\",data)\n",
    "print (\"target\", target)"
   ]
  },
  {
   "cell_type": "markdown",
   "id": "7c7fd041e11580c1",
   "metadata": {
    "collapsed": false
   },
   "source": [
    "Inicializo los pesos, bias, y la tasa de aprendizaje"
   ]
  },
  {
   "cell_type": "markdown",
   "id": "ddd6dc7197472722",
   "metadata": {
    "collapsed": false
   },
   "source": [
    "Iterando sobre los datos de entrenamiento"
   ]
  },
  {
   "cell_type": "code",
   "execution_count": 17,
   "id": "8ebdd5355f606208",
   "metadata": {
    "collapsed": false,
    "ExecuteTime": {
     "end_time": "2024-03-13T08:05:02.768558Z",
     "start_time": "2024-03-13T08:05:02.745567Z"
    }
   },
   "outputs": [
    {
     "name": "stdout",
     "output_type": "stream",
     "text": [
      "Epoch    x1    x2    yin    y    t    E    -    w1                  w2    b    update\n",
      "-------  ----  ----  -----  ---  ---  ---  ---  ------------------  ----  ---  --------\n",
      "0        0     0     1      0    0    -1   -    0.3                 0.8   0.0  True\n",
      "0        0     1     1      1    1    0    -    0.3                 0.8   0.0  False\n",
      "0        1     0     0      1    1    1    -    0.8999999999999999  0.8   0.6  True\n",
      "0        1     1     1      1    1    0    -    0.8999999999999999  0.8   0.6  False\n",
      "-        -     -     -      -    -    -    -    -                   -     -\n",
      "1        0     0     1      0    0    -1   -    0.8999999999999999  0.8   0.0  True\n",
      "1        0     1     1      1    1    0    -    0.8999999999999999  0.8   0.0  False\n",
      "1        1     0     1      1    1    0    -    0.8999999999999999  0.8   0.0  False\n",
      "1        1     1     1      1    1    0    -    0.8999999999999999  0.8   0.0  False\n",
      "-        -     -     -      -    -    -    -    -                   -     -\n",
      "2        0     0     0      0    0    0    -    0.8999999999999999  0.8   0.0  False\n",
      "2        0     1     1      1    1    0    -    0.8999999999999999  0.8   0.0  False\n",
      "2        1     0     1      1    1    0    -    0.8999999999999999  0.8   0.0  False\n",
      "2        1     1     1      1    1    0    -    0.8999999999999999  0.8   0.0  False\n",
      "-        -     -     -      -    -    -    -    -                   -     -\n",
      "3        0     0     0      0    0    0    -    0.8999999999999999  0.8   0.0  False\n",
      "3        0     1     1      1    1    0    -    0.8999999999999999  0.8   0.0  False\n",
      "3        1     0     1      1    1    0    -    0.8999999999999999  0.8   0.0  False\n",
      "3        1     1     1      1    1    0    -    0.8999999999999999  0.8   0.0  False\n",
      "-        -     -     -      -    -    -    -    -                   -     -\n",
      "4        0     0     0      0    0    0    -    0.8999999999999999  0.8   0.0  False\n",
      "4        0     1     1      1    1    0    -    0.8999999999999999  0.8   0.0  False\n",
      "4        1     0     1      1    1    0    -    0.8999999999999999  0.8   0.0  False\n",
      "4        1     1     1      1    1    0    -    0.8999999999999999  0.8   0.0  False\n",
      "-        -     -     -      -    -    -    -    -                   -     -\n",
      "5        0     0     0      0    0    0    -    0.8999999999999999  0.8   0.0  False\n",
      "5        0     1     1      1    1    0    -    0.8999999999999999  0.8   0.0  False\n",
      "5        1     0     1      1    1    0    -    0.8999999999999999  0.8   0.0  False\n",
      "5        1     1     1      1    1    0    -    0.8999999999999999  0.8   0.0  False\n",
      "-        -     -     -      -    -    -    -    -                   -     -\n",
      "6        0     0     0      0    0    0    -    0.8999999999999999  0.8   0.0  False\n",
      "6        0     1     1      1    1    0    -    0.8999999999999999  0.8   0.0  False\n",
      "6        1     0     1      1    1    0    -    0.8999999999999999  0.8   0.0  False\n",
      "6        1     1     1      1    1    0    -    0.8999999999999999  0.8   0.0  False\n",
      "-        -     -     -      -    -    -    -    -                   -     -\n",
      "7        0     0     0      0    0    0    -    0.8999999999999999  0.8   0.0  False\n",
      "7        0     1     1      1    1    0    -    0.8999999999999999  0.8   0.0  False\n",
      "7        1     0     1      1    1    0    -    0.8999999999999999  0.8   0.0  False\n",
      "7        1     1     1      1    1    0    -    0.8999999999999999  0.8   0.0  False\n",
      "-        -     -     -      -    -    -    -    -                   -     -\n",
      "8        0     0     0      0    0    0    -    0.8999999999999999  0.8   0.0  False\n",
      "8        0     1     1      1    1    0    -    0.8999999999999999  0.8   0.0  False\n",
      "8        1     0     1      1    1    0    -    0.8999999999999999  0.8   0.0  False\n",
      "8        1     1     1      1    1    0    -    0.8999999999999999  0.8   0.0  False\n",
      "-        -     -     -      -    -    -    -    -                   -     -\n",
      "9        0     0     0      0    0    0    -    0.8999999999999999  0.8   0.0  False\n",
      "9        0     1     1      1    1    0    -    0.8999999999999999  0.8   0.0  False\n",
      "9        1     0     1      1    1    0    -    0.8999999999999999  0.8   0.0  False\n",
      "9        1     1     1      1    1    0    -    0.8999999999999999  0.8   0.0  False\n",
      "-        -     -     -      -    -    -    -    -                   -     -\n"
     ]
    }
   ],
   "source": [
    "from tabulate import tabulate\n",
    "w1 = 0.3\n",
    "w2 = 0.8\n",
    "b = 0.6\n",
    "lr=0.6\n",
    "iterations =10\n",
    "data_out = [ ]\n",
    "weigths = [ ]\n",
    "weigths.append( [w1, w2, b])\n",
    "for epoch in range ( iterations):\n",
    "  #primer =  verdadero\n",
    "  for x,y in zip (data,target):\n",
    "    yin = w1*x[0] + w2*x[1] + b\n",
    "    #Funcion de activacion de Adaline\n",
    "    if ( yin >= 0.5  ): #recordar modificar a 0.5 EN AND o -0.5 EN OR\n",
    "       yin = 1\n",
    "    else:\n",
    "       yin = 0\n",
    "    e = y-yin\n",
    "    if int(y) != int(yin):  # Actualizando los pesos y el bias\n",
    "      w1 = w1 + lr*e*x[0]\n",
    "      w2 = w2 + lr*e*x[1]\n",
    "      b = b + lr*e\n",
    "      #guardando los pesos actualizados\n",
    "      weigths.append( [w1, w2, b])\n",
    "    data_out.append(  [epoch, x[0], x[1], yin, y, y, e, '-', w1,w2,b, int(y) != int(yin)] )\n",
    "  data_out.append (['-','-','-','-','-','-','-','-','-','-','-'])\n",
    "print(tabulate( data_out,\n",
    "                headers=['Epoch', 'x1', 'x2', 'yin', 'y', 't', 'E','-', 'w1', 'w2','b', 'update']))"
   ]
  },
  {
   "cell_type": "markdown",
   "id": "bf0a0fc2da1ed407",
   "metadata": {
    "collapsed": false
   },
   "source": [
    "Creando su representacion visual"
   ]
  },
  {
   "cell_type": "code",
   "execution_count": 18,
   "id": "9071881a306fdce8",
   "metadata": {
    "collapsed": false,
    "ExecuteTime": {
     "end_time": "2024-03-13T08:05:04.473340Z",
     "start_time": "2024-03-13T08:05:02.770844Z"
    }
   },
   "outputs": [
    {
     "name": "stdout",
     "output_type": "stream",
     "text": [
      "[0.3, 0.8, 0.6]\n",
      "[0.3, 0.8, 0.0]\n",
      "[0.8999999999999999, 0.8, 0.6]\n",
      "[0.8999999999999999, 0.8, 0.0]\n"
     ]
    },
    {
     "data": {
      "text/plain": "<matplotlib.collections.PathCollection at 0x2d9aaf56cc0>"
     },
     "execution_count": 18,
     "metadata": {},
     "output_type": "execute_result"
    },
    {
     "data": {
      "text/plain": "<Figure size 640x480 with 0 Axes>"
     },
     "metadata": {},
     "output_type": "display_data"
    },
    {
     "data": {
      "text/plain": "<Figure size 640x480 with 12 Axes>",
      "image/png": "[encoded data removed]"
     },
     "metadata": {},
     "output_type": "display_data"
    }
   ],
   "source": [
    "#Construyendo el hyperplano: ax + by + cz = d\n",
    "import numpy as np\n",
    "import matplotlib.pyplot as plt\n",
    "a,b,c = w1,w2,b\n",
    "data_arr = np.array( data )\n",
    "x_min = min( data_arr[: ,0 ]-1)\n",
    "x_max = max( data_arr[: ,0 ]+1)\n",
    "x = np.linspace(x_min, x_max, 100)\n",
    "pairs = []\n",
    "for ws in weigths:\n",
    "  it = []\n",
    "  for xi in  x :\n",
    "    #   weigths.append( [w1, w2, b])\n",
    "    y = (-ws[2] -ws[0]*xi) /ws[1]\n",
    "    it.append( [xi,y])\n",
    "  pairs.append(it)\n",
    "  print(ws)\n",
    "data_arr = np.array( data )\n",
    "data_arr_x = data_arr [ : , 0 ]\n",
    "data_arr_y = data_arr [ : , 1 ]\n",
    "pairs = np.array(pairs)\n",
    "plt.figure(1)\n",
    "fig, axis = plt.subplots(4, 3)\n",
    "for idx,idy in zip ( data_arr_x, data_arr_y  ):\n",
    "    axis[0,0].scatter(idx, idy )\n",
    "    axis[0,1].scatter(idx, idy )\n",
    "    axis[0,2].scatter(idx, idy )\n",
    "    axis[1,0].scatter(idx, idy )\n",
    "axis[0,0].scatter(pairs[0,: ,0], pairs[0, :,1] )\n",
    "axis[0,0].grid()\n",
    "axis[0,1].scatter(pairs[1,: ,0], pairs[1, :,1]  )\n",
    "axis[0,2].scatter(pairs[2,: ,0], pairs[2, :,1]  )\n",
    "axis[1,0].scatter(pairs[3,: ,0], pairs[3, :,1]  )\n",
    "axis[1,1].scatter(pairs[1,: ,0], pairs[1, :,1]  )\n",
    "axis[1,2].scatter(pairs[2,: ,0], pairs[2, :,1]  )\n",
    "axis[2,0].scatter(pairs[3,: ,0], pairs[3, :,1]  )\n",
    "axis[2,1].scatter(pairs[1,: ,0], pairs[1, :,1]  )\n",
    "axis[2,2].scatter(pairs[2,: ,0], pairs[2, :,1]  )\n"
   ]
  }
 ],
 "metadata": {
  "kernelspec": {
   "display_name": "Python 3 (ipykernel)",
   "language": "python",
   "name": "python3"
  },
  "language_info": {
   "codemirror_mode": {
    "name": "ipython",
    "version": 3
   },
   "file_extension": ".py",
   "mimetype": "text/x-python",
   "name": "python",
   "nbconvert_exporter": "python",
   "pygments_lexer": "ipython3",
   "version": "3.12.0"
  }
 },
 "nbformat": 4,
 "nbformat_minor": 5
}

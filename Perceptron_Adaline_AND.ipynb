{
 "nbformat": 4,
 "nbformat_minor": 0,
 "metadata": {
  "colab": {
   "provenance": [],
   "authorship_tag": "ABX9TyOyYAHP+dK8s8sOIc2TGg9F"
  },
  "kernelspec": {
   "name": "python3",
   "language": "python",
   "display_name": "Python 3 (ipykernel)"
  },
  "language_info": {
   "name": "python"
  }
 },
 "cells": [
  {
   "cell_type": "code",
   "execution_count": 2,
   "metadata": {
    "id": "8cPJQHE1dsvg",
    "executionInfo": {
     "status": "ok",
     "timestamp": 1693589713989,
     "user_tz": 360,
     "elapsed": 182,
     "user": {
      "displayName": "Gerardo Hernandez",
      "userId": "06181982050055850323"
     }
    },
    "ExecuteTime": {
     "end_time": "2024-03-07T18:37:41.733311Z",
     "start_time": "2024-03-07T18:37:41.727141Z"
    }
   },
   "outputs": [],
   "source": [
    "# AND GATE\n",
    "\n",
    "#data = [ [ 0, 0],\n",
    " #        [ 0, 1],\n",
    "  #       [ 1, 0],\n",
    "   #      [ 1, 1] ]\n",
    "#target = [0,\n",
    " #         0,\n",
    "  #        0,\n",
    "   #       1 ]\n"
   ]
  },
  {
   "cell_type": "code",
   "outputs": [],
   "source": [
    "# OR GATE\n",
    "\n",
    "data = [ [ 0, 0],\n",
    "         [ 0, 1],\n",
    "         [ 1, 0],\n",
    "         [ 1, 1] ]\n",
    "target = [  0,\n",
    "            1,\n",
    "            1,\n",
    "            1 ]\n"
   ],
   "metadata": {
    "collapsed": false,
    "ExecuteTime": {
     "end_time": "2024-03-12T17:54:29.153527Z",
     "start_time": "2024-03-12T17:54:29.149055Z"
    }
   },
   "execution_count": 24
  },
  {
   "cell_type": "markdown",
   "source": [
    " Datos de entrenamiento:"
   ],
   "metadata": {
    "id": "HRZ-zsOBee6w"
   }
  },
  {
   "cell_type": "code",
   "source": [
    "print (\"Data:\",data)\n",
    "print (\"target\", target)"
   ],
   "metadata": {
    "colab": {
     "base_uri": "https://localhost:8080/"
    },
    "id": "_qa77DO7elzr",
    "executionInfo": {
     "status": "ok",
     "timestamp": 1693589716135,
     "user_tz": 360,
     "elapsed": 173,
     "user": {
      "displayName": "Gerardo Hernandez",
      "userId": "06181982050055850323"
     }
    },
    "outputId": "3a7d5de2-80c0-4387-e35d-167558c645f1",
    "ExecuteTime": {
     "end_time": "2024-03-12T17:54:30.704286Z",
     "start_time": "2024-03-12T17:54:30.698791Z"
    }
   },
   "execution_count": 25,
   "outputs": [
    {
     "name": "stdout",
     "output_type": "stream",
     "text": [
      "Data: [[0, 0], [0, 1], [1, 0], [1, 1]]\n",
      "target [0, 1, 1, 1]\n"
     ]
    }
   ]
  },
  {
   "cell_type": "markdown",
   "source": [
    " Initialize weights and bias and learning rate"
   ],
   "metadata": {
    "id": "ToRegf3zfFwn"
   }
  },
  {
   "cell_type": "markdown",
   "source": [
    "iterate over data training"
   ],
   "metadata": {
    "id": "JD3CIdpdfytP"
   }
  },
  {
   "cell_type": "code",
   "source": [
    "import sklearn\n",
    "import keras\n",
    "import scipy\n",
    "import tensorflow\n",
    "from tabulate import tabulate\n",
    "\n",
    "w1 = 0.3\n",
    "w2 = 0.8\n",
    "b = 0.6\n",
    "\n",
    "lr = 0.5\n",
    "\n",
    "itreations= 10\n",
    "\n",
    "data_out = [ ]\n",
    "weigths = [ ]\n",
    "weigths.append( [w1, w2, b])\n",
    "\n",
    "for epoch in range ( itreations):\n",
    "\n",
    "  #first =  true\n",
    "\n",
    "  for x,y in zip (data,target):\n",
    "    yin = w1*x[0] + w2*x[1] + b\n",
    "\n",
    "    #activation function\n",
    "    if ( yin >= -0.5  ): #recordar modificar\n",
    "       yin = 1\n",
    "    else:\n",
    "       yin = 0\n",
    "\n",
    "    e = y-yin\n",
    "\n",
    "\n",
    "    if int(y) != int(yin):  # update weigths and bias\n",
    "      w1 = w1 + lr*e*x[0]\n",
    "      w2 = w2 + lr*e*x[1]\n",
    "      b = b + lr*e\n",
    "      #store the updated weights\n",
    "      weigths.append( [w1, w2, b])\n",
    "\n",
    "    data_out.append(  [epoch, x[0], x[1], yin, y, y, e, '-', w1,w2,b, int(y) != int(yin)] )\n",
    "\n",
    "  data_out.append (['-','-','-','-','-','-','-','-','-','-','-'])\n",
    "\n",
    "\n",
    "\n",
    "print(tabulate( data_out,\n",
    "                headers=['Epoch', 'x1', 'x2', 'yin', 'y', 't', 'E','-', 'w1', 'w2','b', 'update']))\n",
    "#print(\"\\n\")"
   ],
   "metadata": {
    "colab": {
     "base_uri": "https://localhost:8080/"
    },
    "id": "qY9POrnJf3JC",
    "executionInfo": {
     "status": "ok",
     "timestamp": 1693589730459,
     "user_tz": 360,
     "elapsed": 173,
     "user": {
      "displayName": "Gerardo Hernandez",
      "userId": "06181982050055850323"
     }
    },
    "outputId": "b0a6da17-8988-4ce2-861c-a6eef89536d3",
    "ExecuteTime": {
     "end_time": "2024-03-12T17:54:20.235367Z",
     "start_time": "2024-03-12T17:54:20.221237Z"
    }
   },
   "execution_count": 23,
   "outputs": [
    {
     "name": "stdout",
     "output_type": "stream",
     "text": [
      "Epoch    x1    x2    yin    y    t    E    -    w1    w2    b                    update\n",
      "-------  ----  ----  -----  ---  ---  ---  ---  ----  ----  -------------------  --------\n",
      "0        0     0     1      0    0    -1   -    0.3   0.8   0.09999999999999998  True\n",
      "0        0     1     1      1    1    0    -    0.3   0.8   0.09999999999999998  False\n",
      "0        1     0     1      1    1    0    -    0.3   0.8   0.09999999999999998  False\n",
      "0        1     1     1      1    1    0    -    0.3   0.8   0.09999999999999998  False\n",
      "-        -     -     -      -    -    -    -    -     -     -\n",
      "1        0     0     1      0    0    -1   -    0.3   0.8   -0.4                 True\n",
      "1        0     1     1      1    1    0    -    0.3   0.8   -0.4                 False\n",
      "1        1     0     1      1    1    0    -    0.3   0.8   -0.4                 False\n",
      "1        1     1     1      1    1    0    -    0.3   0.8   -0.4                 False\n",
      "-        -     -     -      -    -    -    -    -     -     -\n",
      "2        0     0     1      0    0    -1   -    0.3   0.8   -0.9                 True\n",
      "2        0     1     1      1    1    0    -    0.3   0.8   -0.9                 False\n",
      "2        1     0     0      1    1    1    -    0.8   0.8   -0.4                 True\n",
      "2        1     1     1      1    1    0    -    0.8   0.8   -0.4                 False\n",
      "-        -     -     -      -    -    -    -    -     -     -\n",
      "3        0     0     1      0    0    -1   -    0.8   0.8   -0.9                 True\n",
      "3        0     1     1      1    1    0    -    0.8   0.8   -0.9                 False\n",
      "3        1     0     1      1    1    0    -    0.8   0.8   -0.9                 False\n",
      "3        1     1     1      1    1    0    -    0.8   0.8   -0.9                 False\n",
      "-        -     -     -      -    -    -    -    -     -     -\n",
      "4        0     0     0      0    0    0    -    0.8   0.8   -0.9                 False\n",
      "4        0     1     1      1    1    0    -    0.8   0.8   -0.9                 False\n",
      "4        1     0     1      1    1    0    -    0.8   0.8   -0.9                 False\n",
      "4        1     1     1      1    1    0    -    0.8   0.8   -0.9                 False\n",
      "-        -     -     -      -    -    -    -    -     -     -\n",
      "5        0     0     0      0    0    0    -    0.8   0.8   -0.9                 False\n",
      "5        0     1     1      1    1    0    -    0.8   0.8   -0.9                 False\n",
      "5        1     0     1      1    1    0    -    0.8   0.8   -0.9                 False\n",
      "5        1     1     1      1    1    0    -    0.8   0.8   -0.9                 False\n",
      "-        -     -     -      -    -    -    -    -     -     -\n",
      "6        0     0     0      0    0    0    -    0.8   0.8   -0.9                 False\n",
      "6        0     1     1      1    1    0    -    0.8   0.8   -0.9                 False\n",
      "6        1     0     1      1    1    0    -    0.8   0.8   -0.9                 False\n",
      "6        1     1     1      1    1    0    -    0.8   0.8   -0.9                 False\n",
      "-        -     -     -      -    -    -    -    -     -     -\n",
      "7        0     0     0      0    0    0    -    0.8   0.8   -0.9                 False\n",
      "7        0     1     1      1    1    0    -    0.8   0.8   -0.9                 False\n",
      "7        1     0     1      1    1    0    -    0.8   0.8   -0.9                 False\n",
      "7        1     1     1      1    1    0    -    0.8   0.8   -0.9                 False\n",
      "-        -     -     -      -    -    -    -    -     -     -\n",
      "8        0     0     0      0    0    0    -    0.8   0.8   -0.9                 False\n",
      "8        0     1     1      1    1    0    -    0.8   0.8   -0.9                 False\n",
      "8        1     0     1      1    1    0    -    0.8   0.8   -0.9                 False\n",
      "8        1     1     1      1    1    0    -    0.8   0.8   -0.9                 False\n",
      "-        -     -     -      -    -    -    -    -     -     -\n",
      "9        0     0     0      0    0    0    -    0.8   0.8   -0.9                 False\n",
      "9        0     1     1      1    1    0    -    0.8   0.8   -0.9                 False\n",
      "9        1     0     1      1    1    0    -    0.8   0.8   -0.9                 False\n",
      "9        1     1     1      1    1    0    -    0.8   0.8   -0.9                 False\n",
      "-        -     -     -      -    -    -    -    -     -     -\n"
     ]
    }
   ]
  },
  {
   "cell_type": "markdown",
   "source": [
    "Visual Representation"
   ],
   "metadata": {
    "id": "J9oNEApT6Rxe"
   }
  },
  {
   "cell_type": "code",
   "source": [
    "#construct hyperplane: ax + by + cz = d\n",
    "import numpy as np\n",
    "import matplotlib.pyplot as plt\n",
    "\n",
    "a,b,c = w1,w2,b\n",
    "\n",
    "data_arr = np.array( data )\n",
    "\n",
    "x_min = min( data_arr[: ,0 ]-1)\n",
    "x_max = max( data_arr[: ,0 ]+1)\n",
    "\n",
    "x = np.linspace(x_min, x_max, 100)\n",
    "\n",
    "#Xs,Ys = np.meshgrid(x,y)\n",
    "#Zs = (d - a*Xs - b*Ys) / c\n",
    "\n",
    "pairs = []\n",
    "\n",
    "for ws in weigths:\n",
    "  it = []\n",
    "  for xi in  x :\n",
    "    #   weigths.append( [w1, w2, b])\n",
    "    y = (-ws[2] -ws[0]*xi) /ws[1]\n",
    "    it.append( [xi,y])\n",
    "\n",
    "  pairs.append(it)\n",
    "  print(ws)\n",
    "\n",
    "data_arr = np.array( data )\n",
    "data_arr_x = data_arr [ : , 0 ]\n",
    "data_arr_y = data_arr [ : , 1 ]\n",
    "\n",
    "pairs = np.array(pairs)\n",
    "\n",
    "plt.figure(1)\n",
    "\n",
    "fig, axis = plt.subplots(4, 3)\n",
    "\n",
    "for idx,idy in zip ( data_arr_x, data_arr_y  ):\n",
    "    axis[0,0].scatter(idx, idy )\n",
    "    axis[0,1].scatter(idx, idy )\n",
    "    axis[0,2].scatter(idx, idy )\n",
    "    axis[1,0].scatter(idx, idy )\n",
    "    #axis[1,1].scatter(idx, idy )\n",
    "    #axis[1,2].scatter(idx, idy )\n",
    "\n",
    "axis[0,0].scatter(pairs[0,: ,0], pairs[0, :,1] )\n",
    "axis[0,0].grid()\n",
    "axis[0,1].scatter(pairs[1,: ,0], pairs[1, :,1]  )\n",
    "axis[0,2].scatter(pairs[2,: ,0], pairs[2, :,1]  )\n",
    "axis[1,0].scatter(pairs[3,: ,0], pairs[3, :,1]  )\n",
    "axis[1,1].scatter(pairs[1,: ,0], pairs[1, :,1]  )\n",
    "axis[1,2].scatter(pairs[2,: ,0], pairs[2, :,1]  )\n",
    "axis[2,0].scatter(pairs[3,: ,0], pairs[3, :,1]  )\n",
    "axis[2,1].scatter(pairs[1,: ,0], pairs[1, :,1]  )\n",
    "axis[2,2].scatter(pairs[2,: ,0], pairs[2, :,1]  )\n",
    "\n",
    "\n",
    "\n"
   ],
   "metadata": {
    "colab": {
     "base_uri": "https://localhost:8080/",
     "height": 569
    },
    "id": "LwIPVcs86XRE",
    "executionInfo": {
     "status": "ok",
     "timestamp": 1693589753566,
     "user_tz": 360,
     "elapsed": 2432,
     "user": {
      "displayName": "Gerardo Hernandez",
      "userId": "06181982050055850323"
     }
    },
    "outputId": "c25fc6f2-9986-44a9-ad8e-6ad81037d71a",
    "ExecuteTime": {
     "end_time": "2024-03-12T17:56:00.339043Z",
     "start_time": "2024-03-12T17:55:58.869308Z"
    }
   },
   "execution_count": 26,
   "outputs": [
    {
     "name": "stdout",
     "output_type": "stream",
     "text": [
      "[0.3, 0.8, 0.6]\n",
      "[0.3, 0.8, 0.09999999999999998]\n",
      "[0.3, 0.8, -0.4]\n",
      "[0.3, 0.8, -0.9]\n",
      "[0.8, 0.8, -0.4]\n",
      "[0.8, 0.8, -0.9]\n"
     ]
    },
    {
     "data": {
      "text/plain": "<matplotlib.collections.PathCollection at 0x17c85a0fbf0>"
     },
     "execution_count": 26,
     "metadata": {},
     "output_type": "execute_result"
    },
    {
     "data": {
      "text/plain": "<Figure size 640x480 with 0 Axes>"
     },
     "metadata": {},
     "output_type": "display_data"
    },
    {
     "data": {
      "text/plain": "<Figure size 640x480 with 12 Axes>",
      "image/png": "[encoded data removed]"
     },
     "metadata": {},
     "output_type": "display_data"
    }
   ]
  }
 ]
}

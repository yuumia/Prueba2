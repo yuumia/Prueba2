{
 "cells": [
  {
   "cell_type": "code",
   "execution_count": 2,
   "id": "initial_id",
   "metadata": {
    "collapsed": true,
    "ExecuteTime": {
     "end_time": "2024-03-13T06:40:38.978933Z",
     "start_time": "2024-03-13T06:40:38.973941Z"
    }
   },
   "outputs": [],
   "source": [
    "# Puerta AND\n",
    "\"\"\"\n",
    "data=[[-1,-1,1],\n",
    "      [-1,1,1],\n",
    "      [1,-1,1],\n",
    "      [1,1,1]]\n",
    "target=[-1,-1,-1,1]\n",
    "\"\"\""
   ]
  },
  {
   "cell_type": "code",
   "outputs": [],
   "source": [
    "#Puerta OR\n",
    "data = [ [-1, -1, 1],\n",
    "         [-1,  1, 1],\n",
    "         [ 1, -1, 1],\n",
    "         [ 1,  1, 1] ]\n",
    "target = [-1,\n",
    "           1,\n",
    "           1,\n",
    "           1 ]     "
   ],
   "metadata": {
    "collapsed": false,
    "ExecuteTime": {
     "end_time": "2024-03-13T06:46:44.854031Z",
     "start_time": "2024-03-13T06:46:44.850488Z"
    }
   },
   "id": "8afee9221f163fc7",
   "execution_count": 9
  },
  {
   "cell_type": "markdown",
   "source": [
    "'\\ndata=[[-1,-1,1],\\n]----[-1,-1,1],\\n----[-1,-1,1],\\n----[-1,-1,1],\\ntarget   '\n",
    "Datos de Entrenamiento"
   ],
   "metadata": {
    "collapsed": false
   },
   "id": "1d6866d94535ff55"
  },
  {
   "cell_type": "code",
   "outputs": [
    {
     "name": "stdout",
     "output_type": "stream",
     "text": [
      "Data: [[-1, -1, 1], [-1, 1, 1], [1, -1, 1], [1, 1, 1]]\n",
      "target [-1, 1, 1, 1]\n"
     ]
    }
   ],
   "source": [
    "print (\"Data:\",data)\n",
    "print (\"target\", target)"
   ],
   "metadata": {
    "collapsed": false,
    "ExecuteTime": {
     "end_time": "2024-03-13T06:46:44.881858Z",
     "start_time": "2024-03-13T06:46:44.874372Z"
    }
   },
   "id": "975841ce0944353c",
   "execution_count": 10
  },
  {
   "cell_type": "markdown",
   "source": [
    "Inicializo los pesos,bias y la tasa de aprendizaje"
   ],
   "metadata": {
    "collapsed": false
   },
   "id": "55a760de35998584"
  },
  {
   "cell_type": "code",
   "outputs": [
    {
     "name": "stdout",
     "output_type": "stream",
     "text": [
      "Data [[1, 1, 1], [1, -1, 1], [-1, 1, 1], [-1, -1, 1]]\n",
      "Target [1, 1, 1, -1]\n"
     ]
    }
   ],
   "source": [
    "data=data[::-1]\n",
    "target=target[::-1]\n",
    "print (\"Data\", data)\n",
    "print (\"Target\", target)"
   ],
   "metadata": {
    "collapsed": false,
    "ExecuteTime": {
     "end_time": "2024-03-13T06:46:44.899376Z",
     "start_time": "2024-03-13T06:46:44.893209Z"
    }
   },
   "id": "d589977e9b0cc4f3",
   "execution_count": 11
  },
  {
   "cell_type": "markdown",
   "source": [
    "Iterando sobre la informacion de entrenamiento"
   ],
   "metadata": {
    "collapsed": false
   },
   "id": "eb5b2843d2070ab4"
  },
  {
   "cell_type": "code",
   "outputs": [
    {
     "name": "stdout",
     "output_type": "stream",
     "text": [
      "Epoch    x1    x2    b    yin    y    t    E      -    w1    w2      b  update\n",
      "-------  ----  ----  ---  -----  ---  ---  -----  ---  ----  ----  ---  --------\n",
      "0        1     1     1    0.0    1    1    1.0    -    1.0   1.0     1  True\n",
      "-        -     -     -    -      -    -    -      -    -     -\n",
      "1        1     1     1    3.0    1    1    -2.0   -    2.0   2.0     2  True\n",
      "1        1     -1    1    2.0    1    1    -1.0   -    3.0   1.0     3  True\n",
      "-        -     -     -    -      -    -    -      -    -     -\n",
      "2        1     1     1    7.0    1    1    -6.0   -    4.0   2.0     4  True\n",
      "2        1     -1    1    6.0    1    1    -5.0   -    5.0   1.0     5  True\n",
      "-        -     -     -    -      -    -    -      -    -     -\n",
      "3        1     1     1    11.0   1    1    -10.0  -    6.0   2.0     6  True\n",
      "3        1     -1    1    10.0   1    1    -9.0   -    7.0   1.0     7  True\n",
      "-        -     -     -    -      -    -    -      -    -     -\n",
      "4        1     1     1    15.0   1    1    -14.0  -    8.0   2.0     8  True\n",
      "4        1     -1    1    14.0   1    1    -13.0  -    9.0   1.0     9  True\n",
      "-        -     -     -    -      -    -    -      -    -     -\n",
      "5        1     1     1    19.0   1    1    -18.0  -    10.0  2.0    10  True\n",
      "5        1     -1    1    18.0   1    1    -17.0  -    11.0  1.0    11  True\n",
      "-        -     -     -    -      -    -    -      -    -     -\n",
      "6        1     1     1    23.0   1    1    -22.0  -    12.0  2.0    12  True\n",
      "6        1     -1    1    22.0   1    1    -21.0  -    13.0  1.0    13  True\n",
      "-        -     -     -    -      -    -    -      -    -     -\n",
      "7        1     1     1    27.0   1    1    -26.0  -    14.0  2.0    14  True\n",
      "7        1     -1    1    26.0   1    1    -25.0  -    15.0  1.0    15  True\n",
      "-        -     -     -    -      -    -    -      -    -     -\n",
      "8        1     1     1    31.0   1    1    -30.0  -    16.0  2.0    16  True\n",
      "8        1     -1    1    30.0   1    1    -29.0  -    17.0  1.0    17  True\n",
      "-        -     -     -    -      -    -    -      -    -     -\n",
      "9        1     1     1    35.0   1    1    -34.0  -    18.0  2.0    18  True\n",
      "9        1     -1    1    34.0   1    1    -33.0  -    19.0  1.0    19  True\n",
      "-        -     -     -    -      -    -    -      -    -     -\n"
     ]
    }
   ],
   "source": [
    "from tabulate import tabulate\n",
    "w1=0.0\n",
    "w2=0.0\n",
    "b=0.0\n",
    "lr = 1\n",
    "iterations= 10\n",
    "data_out = [ ]\n",
    "weigths = [ ]\n",
    "weigths.append( [w1, w2, b])\n",
    "for epoch in range ( iterations):\n",
    "    for x,y in zip (data,target):\n",
    "        yin = w1*x[0] + w2*x[1] + b*x[2]\n",
    "         #activation function\n",
    "        if ( yin < 0.0  ):\n",
    "            yin = -1\n",
    "        else:\n",
    "            if (yin == 0.0):\n",
    "             yin =0.0\n",
    "             if ( yin > 0.0 ):\n",
    "                 yin = 1\n",
    "        e = y-yin\n",
    "        if int(y) != int(yin):  # actualizando los pesos y bias\n",
    "            w1 = w1 + lr*y*x[0]\n",
    "            w2 = w2 + lr*y*x[1]\n",
    "            b = b + lr*y\n",
    "            #guarda los pesos actualizados\n",
    "            weigths.append( [w1, w2, b])\n",
    "            data_out.append(  [epoch, x[0], x[1], x[2], yin, y, y, e, '-', w1,w2,b, int(y) != int(yin)] )\n",
    "    data_out.append (['-','-','-','-','-','-','-','-','-','-','-']) \n",
    "print(tabulate( data_out,\n",
    "                headers=['Epoch', 'x1', 'x2', 'b', 'yin', 'y', 't', 'E','-', 'w1', 'w2','b', 'update']))    "
   ],
   "metadata": {
    "collapsed": false,
    "ExecuteTime": {
     "end_time": "2024-03-13T06:51:47.619753Z",
     "start_time": "2024-03-13T06:51:47.607192Z"
    }
   },
   "id": "8a8a39b345dcd480",
   "execution_count": 14
  },
  {
   "cell_type": "markdown",
   "source": [
    "Creando la Representacion Visual"
   ],
   "metadata": {
    "collapsed": false
   },
   "id": "fe0ddb4b1e31241e"
  },
  {
   "cell_type": "code",
   "outputs": [
    {
     "name": "stdout",
     "output_type": "stream",
     "text": [
      "[0.0, 0.0, 0.0]\n",
      "[1.0, 1.0, 1.0]\n",
      "[2.0, 2.0, 2.0]\n",
      "[3.0, 1.0, 3.0]\n",
      "[4.0, 2.0, 4.0]\n",
      "[5.0, 1.0, 5.0]\n",
      "[6.0, 2.0, 6.0]\n",
      "[7.0, 1.0, 7.0]\n",
      "[8.0, 2.0, 8.0]\n",
      "[9.0, 1.0, 9.0]\n",
      "[10.0, 2.0, 10.0]\n",
      "[11.0, 1.0, 11.0]\n"
     ]
    },
    {
     "name": "stderr",
     "output_type": "stream",
     "text": [
      "C:\\Users\\yuulf\\AppData\\Local\\Temp\\ipykernel_336\\3439088830.py:13: RuntimeWarning: invalid value encountered in scalar divide\n",
      "  y = (-ws[2] -ws[0]*xi) /ws[1]\n"
     ]
    },
    {
     "data": {
      "text/plain": "<Figure size 640x480 with 0 Axes>"
     },
     "metadata": {},
     "output_type": "display_data"
    },
    {
     "data": {
      "text/plain": "<Figure size 640x480 with 6 Axes>",
      "image/png": "[encoded data removed]"
     },
     "metadata": {},
     "output_type": "display_data"
    }
   ],
   "source": [
    "#construyendo el hyperplano en una grafica ax + by + cz = d\n",
    "import numpy as np\n",
    "import matplotlib.pyplot as plt\n",
    "a,b,c = w1,w2,b\n",
    "data_arr = np.array( data )\n",
    "x_min = min( data_arr[: ,0 ]-1)\n",
    "x_max = max( data_arr[: ,0 ]+1)\n",
    "x = np.linspace(x_min, x_max, 100)\n",
    "pairs = []\n",
    "for ws in weigths:\n",
    "  it = []\n",
    "  for xi in  x :\n",
    "    y = (-ws[2] -ws[0]*xi) /ws[1]\n",
    "    it.append( [xi,y])\n",
    "  pairs.append(it)\n",
    "  print(ws)\n",
    "data_arr = np.array( data )\n",
    "data_arr_x = data_arr [ : , 0 ]\n",
    "data_arr_y = data_arr [ : , 1 ]\n",
    "pairs = np.array(pairs)\n",
    "plt.figure(1)\n",
    "fig, axis = plt.subplots(2, 3)\n",
    "for idx,idy in zip ( data_arr_x, data_arr_y  ):\n",
    "    axis[0,0].scatter(idx, idy )\n",
    "    axis[0,1].scatter(idx, idy )\n",
    "    axis[0,2].scatter(idx, idy )\n",
    "    axis[1,0].scatter(idx, idy )\n",
    "axis[0,0].scatter(pairs[0,: ,0], pairs[0, :,1] )\n",
    "#axis[0,0].grid()\n",
    "axis[0,1].scatter(pairs[1,: ,0], pairs[1, :,1]  )\n",
    "axis[0,2].scatter(pairs[2,: ,0], pairs[2, :,1]  )\n",
    "axis[1,0].scatter(pairs[3,: ,0], pairs[3, :,1]  )\n",
    "plt.show()\n"
   ],
   "metadata": {
    "collapsed": false,
    "ExecuteTime": {
     "end_time": "2024-03-13T06:46:45.947941Z",
     "start_time": "2024-03-13T06:46:44.917233Z"
    }
   },
   "id": "2ad6a39527c97573",
   "execution_count": 13
  }
 ],
 "metadata": {
  "kernelspec": {
   "display_name": "Python 3",
   "language": "python",
   "name": "python3"
  },
  "language_info": {
   "codemirror_mode": {
    "name": "ipython",
    "version": 2
   },
   "file_extension": ".py",
   "mimetype": "text/x-python",
   "name": "python",
   "nbconvert_exporter": "python",
   "pygments_lexer": "ipython2",
   "version": "2.7.6"
  }
 },
 "nbformat": 4,
 "nbformat_minor": 5
}

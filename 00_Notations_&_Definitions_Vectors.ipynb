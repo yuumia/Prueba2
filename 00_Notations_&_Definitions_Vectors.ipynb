{
 "cells": [
  {
   "cell_type": "markdown",
   "metadata": {
    "id": "2RyJFSHWKhoQ"
   },
   "source": [
    "#Manejo de vectores con la biblioteca Numpy\n",
    "\n",
    "Al completar este laboratorio, podrás utilizar habilidades básicas de programación con Python y el paquete `NumPy` para el manejo de vectores.\n",
    "\n",
    "\n",
    "\n"
   ]
  },
  {
   "cell_type": "markdown",
   "metadata": {
    "id": "6LbhqCZ26y3N"
   },
   "source": [
    "## Paquetes\n",
    "Importar el paquete `NumPy` para acceder a sus funciones.\n",
    "\n"
   ]
  },
  {
   "cell_type": "code",
   "execution_count": 2,
   "metadata": {
    "ExecuteTime": {
     "end_time": "2024-02-28T06:37:26.495797Z",
     "start_time": "2024-02-28T06:37:26.492755Z"
    },
    "id": "xpri__ZoLeoE"
   },
   "outputs": [],
   "source": [
    "import numpy as np"
   ]
  },
  {
   "cell_type": "markdown",
   "metadata": {
    "id": "EBX8W_mjLiPG"
   },
   "source": [
    "<a name='1'></a>\n",
    "## 1 -  Definición de Listas  utilizando autotyping de python\n",
    "\n"
   ]
  },
  {
   "cell_type": "code",
   "execution_count": 7,
   "metadata": {
    "ExecuteTime": {
     "end_time": "2024-02-28T06:38:18.042484Z",
     "start_time": "2024-02-28T06:38:18.037476Z"
    },
    "colab": {
     "base_uri": "https://localhost:8080/"
    },
    "id": "kaTTGtm266ve",
    "outputId": "20db1bfd-df69-478f-f0d5-e8b6ecff51c3"
   },
   "outputs": [
    {
     "name": "stdout",
     "output_type": "stream",
     "text": [
      "Lista 1: [1.2, 22.4, 34.9, 45.5] \n",
      "\n",
      "Lista 2: [6.8, 84.5, 46.3, 23.1] \n",
      "\n",
      "Concatenación de listas:\n",
      "[1.2, 22.4, 34.9, 45.5, 6.8, 84.5, 46.3, 23.1]\n"
     ]
    }
   ],
   "source": [
    "lista1 = [1.2, 22.4, 34.9, 45.5]\n",
    "lista2 = [6.8, 84.5, 46.3, 23.1]\n",
    "print(f\"Lista 1: {lista1} \\n\")\n",
    "print(f\"Lista 2: {lista2} \\n\")\n",
    "\n",
    "print(f\"Concatenación de listas:\")\n",
    "print(lista1 + lista2)"
   ]
  },
  {
   "cell_type": "markdown",
   "metadata": {
    "id": "Uq3TQG4iNYhg"
   },
   "source": [
    "Intentemos multiplicar la lista 1 y lista 2:"
   ]
  },
  {
   "cell_type": "code",
   "execution_count": 4,
   "metadata": {
    "ExecuteTime": {
     "end_time": "2024-02-28T06:37:27.153284Z",
     "start_time": "2024-02-28T06:37:26.549708Z"
    },
    "colab": {
     "base_uri": "https://localhost:8080/",
     "height": 175
    },
    "id": "opGgR82JNcQc",
    "outputId": "8c4af49f-3e1d-4974-ed9f-c3c98c5a03e4"
   },
   "outputs": [
    {
     "ename": "TypeError",
     "evalue": "can't multiply sequence by non-int of type 'list'",
     "output_type": "error",
     "traceback": [
      "\u001b[1;31m---------------------------------------------------------------------------\u001b[0m",
      "\u001b[1;31mTypeError\u001b[0m                                 Traceback (most recent call last)",
      "Cell \u001b[1;32mIn[4], line 1\u001b[0m\n\u001b[1;32m----> 1\u001b[0m lista3 \u001b[38;5;241m=\u001b[39m  \u001b[43mlista1\u001b[49m\u001b[43m \u001b[49m\u001b[38;5;241;43m*\u001b[39;49m\u001b[43m \u001b[49m\u001b[43mlista2\u001b[49m\n",
      "\u001b[1;31mTypeError\u001b[0m: can't multiply sequence by non-int of type 'list'"
     ]
    }
   ],
   "source": [
    "lista3 =  lista1 * lista2"
   ]
  },
  {
   "cell_type": "markdown",
   "metadata": {
    "id": "EzHECDFWNvmK"
   },
   "source": [
    "Nos marca un error,  esto es por que  para realizar aritmetica con vectores necesitamos hacer uso de una biblioteca especializada.\n",
    "\n",
    "1) Crear arreglos (vectores) con Numpy con el metodo np.array"
   ]
  },
  {
   "cell_type": "code",
   "execution_count": 8,
   "metadata": {
    "ExecuteTime": {
     "end_time": "2024-02-28T06:39:25.005105Z",
     "start_time": "2024-02-28T06:39:24.996935Z"
    },
    "colab": {
     "base_uri": "https://localhost:8080/"
    },
    "id": "aJ3jFINKNzDy",
    "outputId": "8d133a13-cb7b-4cdc-d4fa-a28925c8bf9d"
   },
   "outputs": [
    {
     "name": "stdout",
     "output_type": "stream",
     "text": [
      "Convirtiendo a vectores numpty:\n",
      " Tipo de lista1 <class 'list'> --> <class 'numpy.ndarray'>\n",
      " Tipo de lista1 <class 'list'> --> <class 'numpy.ndarray'>\n",
      "\n",
      "Contenido:\n",
      "\n",
      " [ 1.2 22.4 34.9 45.5]\n",
      " [ 6.8 84.5 46.3 23.1]\n"
     ]
    }
   ],
   "source": [
    "np_list1 = np.array(lista1)\n",
    "np_list2 = np.array(lista2)\n",
    "\n",
    "print(f\"Convirtiendo a vectores numpty:\")\n",
    "\n",
    "print(f\" Tipo de lista1 {type(lista1)} --> {type(np_list1)}\")\n",
    "print(f\" Tipo de lista1 {type(lista2)} --> {type(np_list2)}\")\n",
    "\n",
    "print(f\"\\nContenido:\\n\")\n",
    "print(f\" {np_list1}\")\n",
    "print(f\" {np_list2}\")"
   ]
  },
  {
   "cell_type": "markdown",
   "metadata": {
    "id": "ZauNU5TkN_7D"
   },
   "source": [
    "Una vez definidos los arreglos como numpy arrays, podemos hacer uso de varios metodos:\n",
    "\n",
    "##Valor mínimo en el arreglo : $min(x)$ :  `np.min`\n"
   ]
  },
  {
   "cell_type": "code",
   "execution_count": 9,
   "metadata": {
    "ExecuteTime": {
     "end_time": "2024-02-28T06:39:43.185799Z",
     "start_time": "2024-02-28T06:39:43.180681Z"
    },
    "colab": {
     "base_uri": "https://localhost:8080/"
    },
    "id": "3szUk62XQvtK",
    "outputId": "b2ccad43-bfac-4b05-810b-abbe407826df"
   },
   "outputs": [
    {
     "name": "stdout",
     "output_type": "stream",
     "text": [
      "\n",
      "Valores minimos:\n",
      "\n",
      " Valor minimo lista1 : 1.2\n",
      " Valor minimo lista2 : 6.8\n"
     ]
    }
   ],
   "source": [
    "min_val_list1 =  np.min( np_list1)\n",
    "min_val_list2 =  np.min( np_list2)\n",
    "\n",
    "print(f\"\\nValores minimos:\\n\")\n",
    "print(f\" Valor minimo lista1 : {min_val_list1}\")\n",
    "print(f\" Valor minimo lista2 : {min_val_list2}\")\n"
   ]
  },
  {
   "cell_type": "markdown",
   "metadata": {
    "id": "ewPkQe63RI4i"
   },
   "source": [
    "##Valor máximo en el arreglo : $max(x)$ :  `np.max`"
   ]
  },
  {
   "cell_type": "code",
   "execution_count": 10,
   "metadata": {
    "ExecuteTime": {
     "end_time": "2024-02-28T06:39:45.955131Z",
     "start_time": "2024-02-28T06:39:45.947935Z"
    },
    "colab": {
     "base_uri": "https://localhost:8080/"
    },
    "id": "WllHfMfuROeH",
    "outputId": "3d206db9-d9cf-48a2-c05e-c6ba69eacb9a"
   },
   "outputs": [
    {
     "name": "stdout",
     "output_type": "stream",
     "text": [
      "\n",
      "Valores máximos:\n",
      "\n",
      " Valor máximo lista1 : 45.5\n",
      " Valor máximo lista2 : 84.5\n"
     ]
    }
   ],
   "source": [
    "max_val_list1 =  np.max( np_list1)\n",
    "max_val_list2 =  np.max( np_list2)\n",
    "\n",
    "print(f\"\\nValores máximos:\\n\")\n",
    "print(f\" Valor máximo lista1 : {max_val_list1}\")\n",
    "print(f\" Valor máximo lista2 : {max_val_list2}\")"
   ]
  },
  {
   "cell_type": "markdown",
   "metadata": {
    "id": "_RNFCKgunN47"
   },
   "source": [
    "##Ordena los elementos del arreglo de menor a mayor: `np.sort`"
   ]
  },
  {
   "cell_type": "code",
   "execution_count": 11,
   "metadata": {
    "ExecuteTime": {
     "end_time": "2024-02-28T06:39:47.952017Z",
     "start_time": "2024-02-28T06:39:47.942854Z"
    },
    "colab": {
     "base_uri": "https://localhost:8080/"
    },
    "id": "tRb9UT-cSrl0",
    "outputId": "2afcda0e-0458-4e39-897c-1659b83ed7b8"
   },
   "outputs": [
    {
     "name": "stdout",
     "output_type": "stream",
     "text": [
      "\n",
      "Areglos ordenados:\n",
      "\n",
      " Sort list1 : [ 1.2 22.4 34.9 45.5]\n",
      " Sort list2 : [ 6.8 23.1 46.3 84.5]\n"
     ]
    }
   ],
   "source": [
    "sort_list1 =  np.sort( np_list1)\n",
    "sort_list2 =  np.sort( np_list2)\n",
    "\n",
    "print(f\"\\nAreglos ordenados:\\n\")\n",
    "print(f\" Sort list1 : {sort_list1}\")\n",
    "print(f\" Sort list2 : {sort_list2}\")"
   ]
  },
  {
   "cell_type": "markdown",
   "metadata": {
    "id": "K5h3B-U_azLb"
   },
   "source": [
    "## Redondeo los elementos del arreglo : `np.round`"
   ]
  },
  {
   "cell_type": "code",
   "execution_count": 12,
   "metadata": {
    "ExecuteTime": {
     "end_time": "2024-02-28T06:39:50.842107Z",
     "start_time": "2024-02-28T06:39:50.836054Z"
    },
    "colab": {
     "base_uri": "https://localhost:8080/"
    },
    "id": "rg4J28TWSzjw",
    "outputId": "efe54f58-51fe-4e46-a91d-0055aa27e8d4"
   },
   "outputs": [
    {
     "name": "stdout",
     "output_type": "stream",
     "text": [
      "\n",
      "Areglos redondeados:\n",
      "\n",
      " Sort list1 : [ 1. 22. 35. 46.]\n",
      " Sort list2 : [ 7. 84. 46. 23.]\n"
     ]
    }
   ],
   "source": [
    "round_list1 =  np.round( np_list1)\n",
    "round_list2 =  np.round( np_list2)\n",
    "\n",
    "print(f\"\\nAreglos redondeados:\\n\")\n",
    "print(f\" Sort list1 : {round_list1}\")\n",
    "print(f\" Sort list2 : {round_list2}\")"
   ]
  },
  {
   "cell_type": "markdown",
   "metadata": {
    "id": "xxT_JwC4b0yr"
   },
   "source": [
    "## Suma los elementos del arreglo  : `np.sum`"
   ]
  },
  {
   "cell_type": "code",
   "execution_count": 13,
   "metadata": {
    "ExecuteTime": {
     "end_time": "2024-02-28T06:39:53.079734Z",
     "start_time": "2024-02-28T06:39:53.073108Z"
    },
    "colab": {
     "base_uri": "https://localhost:8080/"
    },
    "id": "qyC5CQXQS1mk",
    "outputId": "c1a28b02-17bc-4c81-f630-5204c585fc99"
   },
   "outputs": [
    {
     "name": "stdout",
     "output_type": "stream",
     "text": [
      "\n",
      "Suma de los arreglos:\n",
      "\n",
      " Suma list1 : 104.0\n",
      " Suma list2 : 160.7\n"
     ]
    }
   ],
   "source": [
    "sum_list1 =  np.sum( np_list1)\n",
    "sum_list2 =  np.sum( np_list2)\n",
    "\n",
    "print(f\"\\nSuma de los arreglos:\\n\")\n",
    "print(f\" Suma list1 : {sum_list1}\")\n",
    "print(f\" Suma list2 : {sum_list2}\")"
   ]
  }
 ],
 "metadata": {
  "colab": {
   "provenance": []
  },
  "kernelspec": {
   "display_name": "Python 3 (ipykernel)",
   "language": "python",
   "name": "python3"
  },
  "language_info": {
   "codemirror_mode": {
    "name": "ipython",
    "version": 3
   },
   "file_extension": ".py",
   "mimetype": "text/x-python",
   "name": "python",
   "nbconvert_exporter": "python",
   "pygments_lexer": "ipython3",
   "version": "3.12.0"
  }
 },
 "nbformat": 4,
 "nbformat_minor": 4
}

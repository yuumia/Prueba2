{
 "nbformat": 4,
 "nbformat_minor": 0,
 "metadata": {
  "colab": {
   "provenance": [],
   "authorship_tag": "ABX9TyNJiNKtkjLkUAYOfK5t9ZzK"
  },
  "kernelspec": {
   "name": "python3",
   "language": "python",
   "display_name": "Python 3 (ipykernel)"
  },
  "language_info": {
   "name": "python"
  }
 },
 "cells": [
  {
   "cell_type": "markdown",
   "source": [
    "\n",
    "https://youtu.be/x3joYu5VI38\n",
    "\n",
    "https://stackoverflow.com/questions/61401114/neural-network-perceptron-visualizing-decision-boundary-as-a-hyperplane-wh\n"
   ],
   "metadata": {
    "id": "Ga4XN86moNeV"
   }
  },
  {
   "cell_type": "code",
   "execution_count": 17,
   "metadata": {
    "id": "8cPJQHE1dsvg",
    "executionInfo": {
     "status": "ok",
     "timestamp": 1693026234226,
     "user_tz": 360,
     "elapsed": 138,
     "user": {
      "displayName": "Gerardo Hernandez",
      "userId": "06181982050055850323"
     }
    },
    "ExecuteTime": {
     "end_time": "2024-02-21T18:33:30.384345300Z",
     "start_time": "2024-02-21T18:33:30.373473600Z"
    }
   },
   "outputs": [],
   "source": [
    "# AND GATE\n",
    "\n",
    "data = [ [-1, -1, 1],\n",
    "         [-1,  1, 1],\n",
    "         [ 1, -1, 1],\n",
    "         [ 1,  1, 1] ]\n",
    "target = [-1,\n",
    "          -1,\n",
    "          -1,\n",
    "           1 ]\n"
   ]
  },
  {
   "cell_type": "code",
   "source": [
    "#OR Gate\n",
    "\"\"\"\n",
    "data = [ [-1, -1, 1],\n",
    "         [-1,  1, 1],\n",
    "         [ 1, -1, 1],\n",
    "         [ 1,  1, 1] ]\n",
    "target = [-1,\n",
    "           1,\n",
    "           1,\n",
    "           1 ]\n",
    "           \"\"\""
   ],
   "metadata": {
    "id": "nCasEKmgNSvI",
    "executionInfo": {
     "status": "ok",
     "timestamp": 1693026235789,
     "user_tz": 360,
     "elapsed": 144,
     "user": {
      "displayName": "Gerardo Hernandez",
      "userId": "06181982050055850323"
     }
    },
    "colab": {
     "base_uri": "https://localhost:8080/",
     "height": 53
    },
    "outputId": "b02ad704-c52f-4009-aca6-be24f8b3d033",
    "ExecuteTime": {
     "end_time": "2024-02-21T18:33:32.687355600Z",
     "start_time": "2024-02-21T18:33:32.679752900Z"
    }
   },
   "execution_count": 18,
   "outputs": [
    {
     "data": {
      "text/plain": "'\\ndata = [ [-1, -1, 1],\\n         [-1,  1, 1],\\n         [ 1, -1, 1],\\n         [ 1,  1, 1] ]\\ntarget = [-1,\\n           1,\\n           1,\\n           1 ]\\n           '"
     },
     "execution_count": 18,
     "metadata": {},
     "output_type": "execute_result"
    }
   ]
  },
  {
   "cell_type": "markdown",
   "source": [
    " Datos de entrenamiento:"
   ],
   "metadata": {
    "id": "HRZ-zsOBee6w"
   }
  },
  {
   "cell_type": "code",
   "source": [
    "print (\"Data:\",data)\n",
    "print (\"target\", target)"
   ],
   "metadata": {
    "colab": {
     "base_uri": "https://localhost:8080/"
    },
    "id": "_qa77DO7elzr",
    "executionInfo": {
     "status": "ok",
     "timestamp": 1693026239090,
     "user_tz": 360,
     "elapsed": 140,
     "user": {
      "displayName": "Gerardo Hernandez",
      "userId": "06181982050055850323"
     }
    },
    "outputId": "13e3e876-5780-4de0-9228-54ee0d533712",
    "ExecuteTime": {
     "end_time": "2024-02-21T18:08:27.213182200Z",
     "start_time": "2024-02-21T18:08:27.163102500Z"
    }
   },
   "execution_count": 10,
   "outputs": [
    {
     "name": "stdout",
     "output_type": "stream",
     "text": [
      "Data: [[-1, -1, 1], [-1, 1, 1], [1, -1, 1], [1, 1, 1]]\n",
      "target [-1, -1, -1, 1]\n"
     ]
    }
   ]
  },
  {
   "cell_type": "markdown",
   "source": [
    " Initialize weights and bias and learning rate"
   ],
   "metadata": {
    "id": "ToRegf3zfFwn"
   }
  },
  {
   "cell_type": "code",
   "source": [
    "data = data[::-1]\n",
    "\n",
    "target = target[::-1]\n",
    "\n",
    "print (\"Data\", data)\n",
    "print (\"Target\", target)"
   ],
   "metadata": {
    "id": "_vc5LCsOflkD",
    "colab": {
     "base_uri": "https://localhost:8080/"
    },
    "executionInfo": {
     "status": "ok",
     "timestamp": 1693026240785,
     "user_tz": 360,
     "elapsed": 126,
     "user": {
      "displayName": "Gerardo Hernandez",
      "userId": "06181982050055850323"
     }
    },
    "outputId": "260d9455-d5f3-4076-dfee-8255b3e733a1",
    "ExecuteTime": {
     "end_time": "2024-02-21T18:08:27.315444Z",
     "start_time": "2024-02-21T18:08:27.200301100Z"
    }
   },
   "execution_count": 11,
   "outputs": [
    {
     "name": "stdout",
     "output_type": "stream",
     "text": [
      "Data [[1, 1, 1], [1, -1, 1], [-1, 1, 1], [-1, -1, 1]]\n",
      "Target [1, -1, -1, -1]\n"
     ]
    }
   ]
  },
  {
   "cell_type": "markdown",
   "source": [
    "iterate over data training"
   ],
   "metadata": {
    "id": "JD3CIdpdfytP"
   }
  },
  {
   "cell_type": "code",
   "source": [
    "from tabulate import tabulate\n",
    "\n",
    "w1 = 0.0\n",
    "w2 = 0.0\n",
    "b = 0.0\n",
    "\n",
    "lr = 1\n",
    "\n",
    "iterations= 6\n",
    "\n",
    "data_out = [ ]\n",
    "weigths = [ ]\n",
    "weigths.append( [w1, w2, b])\n",
    "\n",
    "for epoch in range ( iterations):\n",
    "\n",
    "  for x,y in zip (data,target):\n",
    "    yin = w1*x[0] + w2*x[1] + b*x[2]\n",
    "\n",
    "    #activation function\n",
    "    if ( yin < 0.0  ):\n",
    "        yin = -1\n",
    "    else:\n",
    "        if (yin == 0.0):\n",
    "          yin =0.0\n",
    "        if ( yin > 0.0 ):\n",
    "          yin = 1\n",
    "\n",
    "    e = y-yin\n",
    "\n",
    "    if int(y) != int(yin):  # update weigths and bias\n",
    "      w1 = w1 + lr*y*x[0]\n",
    "      w2 = w2 + lr*y*x[1]\n",
    "      b = b + lr*y\n",
    "      #store the updated weights\n",
    "      weigths.append( [w1, w2, b])\n",
    "\n",
    "      data_out.append(  [epoch, x[0], x[1], x[2], yin, y, y, e, '-', w1,w2,b, int(y) != int(yin)] )\n",
    "\n",
    "  data_out.append (['-','-','-','-','-','-','-','-','-','-','-'])\n",
    "\n",
    "\n",
    "\n",
    "print(tabulate( data_out,\n",
    "                headers=['Epoch', 'x1', 'x2', 'b', 'yin', 'y', 't', 'E','-', 'w1', 'w2','b', 'update']))\n",
    "#print(\"\\n\")"
   ],
   "metadata": {
    "colab": {
     "base_uri": "https://localhost:8080/"
    },
    "id": "qY9POrnJf3JC",
    "executionInfo": {
     "status": "ok",
     "timestamp": 1693027362474,
     "user_tz": 360,
     "elapsed": 148,
     "user": {
      "displayName": "Gerardo Hernandez",
      "userId": "06181982050055850323"
     }
    },
    "outputId": "95e38df7-8dad-4765-b616-ec3bd705e604",
    "ExecuteTime": {
     "end_time": "2024-02-21T18:08:27.379104200Z",
     "start_time": "2024-02-21T18:08:27.298655600Z"
    }
   },
   "execution_count": 12,
   "outputs": [
    {
     "name": "stdout",
     "output_type": "stream",
     "text": [
      "Epoch    x1    x2    b    yin    y    t    E    -    w1    w2      b  update\n",
      "-------  ----  ----  ---  -----  ---  ---  ---  ---  ----  ----  ---  --------\n",
      "0        1     1     1    0.0    1    1    1.0  -    1.0   1.0     1  True\n",
      "0        1     -1    1    1      -1   -1   -2   -    0.0   2.0     0  True\n",
      "0        -1    1     1    1      -1   -1   -2   -    1.0   1.0    -1  True\n",
      "-        -     -     -    -      -    -    -    -    -     -\n",
      "-        -     -     -    -      -    -    -    -    -     -\n",
      "-        -     -     -    -      -    -    -    -    -     -\n",
      "-        -     -     -    -      -    -    -    -    -     -\n",
      "-        -     -     -    -      -    -    -    -    -     -\n",
      "-        -     -     -    -      -    -    -    -    -     -\n"
     ]
    }
   ]
  },
  {
   "cell_type": "markdown",
   "source": [
    "Visual Representation"
   ],
   "metadata": {
    "id": "J9oNEApT6Rxe"
   }
  },
  {
   "cell_type": "code",
   "source": [
    "#construct hyperplane: ax + by + cz = d\n",
    "import numpy as np\n",
    "import matplotlib.pyplot as plt\n",
    "\n",
    "a,b,c = w1,w2,b\n",
    "\n",
    "data_arr = np.array( data )\n",
    "\n",
    "x_min = min( data_arr[: ,0 ]-1)\n",
    "x_max = max( data_arr[: ,0 ]+1)\n",
    "\n",
    "x = np.linspace(x_min, x_max, 100)\n",
    "\n",
    "#Xs,Ys = np.meshgrid(x,y)\n",
    "#Zs = (d - a*Xs - b*Ys) / c\n",
    "\n",
    "pairs = []\n",
    "\n",
    "for ws in weigths:\n",
    "  it = []\n",
    "  for xi in  x :\n",
    "    #   weigths.append( [w1, w2, b])\n",
    "    y = (-ws[2] -ws[0]*xi) /ws[1]\n",
    "    it.append( [xi,y])\n",
    "\n",
    "  pairs.append(it)\n",
    "  print(ws)\n",
    "\n",
    "data_arr = np.array( data )\n",
    "data_arr_x = data_arr [ : , 0 ]\n",
    "data_arr_y = data_arr [ : , 1 ]\n",
    "\n",
    "pairs = np.array(pairs)\n",
    "\n",
    "plt.figure(1)\n",
    "\n",
    "fig, axis = plt.subplots(2, 3)\n",
    "\n",
    "for idx,idy in zip ( data_arr_x, data_arr_y  ):\n",
    "    axis[0,0].scatter(idx, idy )\n",
    "    axis[0,1].scatter(idx, idy )\n",
    "    axis[0,2].scatter(idx, idy )\n",
    "    axis[1,0].scatter(idx, idy )\n",
    "    #axis[1,1].scatter(idx, idy )\n",
    "    #axis[1,2].scatter(idx, idy )\n",
    "\n",
    "axis[0,0].scatter(pairs[0,: ,0], pairs[0, :,1] )\n",
    "#axis[0,0].grid()\n",
    "axis[0,1].scatter(pairs[1,: ,0], pairs[1, :,1]  )\n",
    "axis[0,2].scatter(pairs[2,: ,0], pairs[2, :,1]  )\n",
    "axis[1,0].scatter(pairs[3,: ,0], pairs[3, :,1]  )\n",
    "#axis[1,1].scatter(pairs[4,: ,0], pairs[4, :,1], cmap='viridis',  alpha = 0.25  )\n",
    "#axis[1,2].scatter(pairs[5,: ,0], pairs[5, :,1], cmap='viridis' )\n",
    "\n",
    "#plt.subplot(212)\n",
    "#for idx,idy in zip ( data_arr_x, data_arr_y  ):\n",
    "#    plt.scatter(idx, idy )\n",
    "\n",
    "#plt.scatter(pairs[1,: ,0], pairs[1, :,1], cmap='viridis',  alpha = 0.25  )\n",
    "\n",
    "#plt.subplot(21)\n",
    "#for idx,idy in zip ( data_arr_x, data_arr_y  ):\n",
    "#    plt.scatter(idx, idy )\n",
    "\n",
    "#plt.scatter(pairs[2,: ,0], pairs[2, :,1], cmap='viridis',  alpha = 0.25  )\n",
    "\n",
    "#plt.subplot(212)\n",
    "#plt.plot(t, 2*s1)\n",
    "\n",
    "plt.show()\n"
   ],
   "metadata": {
    "colab": {
     "base_uri": "https://localhost:8080/",
     "height": 569
    },
    "id": "LwIPVcs86XRE",
    "executionInfo": {
     "status": "ok",
     "timestamp": 1693027371997,
     "user_tz": 360,
     "elapsed": 1183,
     "user": {
      "displayName": "Gerardo Hernandez",
      "userId": "06181982050055850323"
     }
    },
    "outputId": "af83d1ba-b7f9-40ad-9a7e-422c4c9bf8b9",
    "ExecuteTime": {
     "end_time": "2024-02-21T18:22:05.721451200Z",
     "start_time": "2024-02-21T18:22:04.808916100Z"
    }
   },
   "execution_count": 16,
   "outputs": [
    {
     "name": "stdout",
     "output_type": "stream",
     "text": [
      "[0.0, 0.0, 0.0]\n",
      "[1.0, 1.0, 1.0]\n",
      "[0.0, 2.0, 0.0]\n",
      "[1.0, 1.0, -1.0]\n"
     ]
    },
    {
     "name": "stderr",
     "output_type": "stream",
     "text": [
      "C:\\Users\\yuulf\\AppData\\Local\\Temp\\ipykernel_17516\\3720772603.py:23: RuntimeWarning: invalid value encountered in scalar divide\n",
      "  y = (-ws[2] -ws[0]*xi) /ws[1]\n"
     ]
    },
    {
     "data": {
      "text/plain": "<Figure size 640x480 with 0 Axes>"
     },
     "metadata": {},
     "output_type": "display_data"
    },
    {
     "data": {
      "text/plain": "<Figure size 640x480 with 6 Axes>",
      "image/png": "[encoded data removed]"
     },
     "metadata": {},
     "output_type": "display_data"
    }
   ]
  }
 ]
}

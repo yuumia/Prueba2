{
  "cells": [
    {
      "cell_type": "markdown",
      "metadata": {
        "id": "YwtHlpm9AOlh"
      },
      "source": [
        "# Optimización utilizando Descenso del Gradiente en una Variable\n",
        "\n",
        "Para entender cómo optimizar funciones utilizando el descenso del gradiente, comienza con ejemplos simples: funciones de una variable. En este laboratorio, implementarás el método del descenso del gradiente para funciones con un solo mínimo y múltiples mínimos, experimentarás con los parámetros y visualizarás los resultados. Esto te permitirá comprender las ventajas y desventajas del método del descenso del gradiente.\n",
        "\n",
        "# Tabla de Contenidos\n",
        "\n",
        "- [ 1 - Función con un Mínimo Global](#1)\n",
        "- [ 2 - Función con Múltiples Mínimos](#2)\n"
      ]
    },
    {
      "cell_type": "markdown",
      "source": [
        "## Paquetes\n",
        "\n",
        "Ejecuta la siguiente celda para cargar los paquetes que necesitarás.\n"
      ],
      "metadata": {
        "id": "wcoO-chrvm7F"
      }
    },
    {
      "cell_type": "code",
      "source": [
        "import numpy as np\n",
        "import matplotlib.pyplot as plt\n"
      ],
      "metadata": {
        "id": "7gw14EmQvyvV"
      },
      "execution_count": 13,
      "outputs": []
    },
    {
      "cell_type": "markdown",
      "source": [
        "<a name='1'></a>\n",
        "## 1 - Función con un Mínimo Global\n",
        "\n",
        "La función $f\\left(x\\right)=e^x - \\log(x)$ (definida para $x>0$) es una función de una variable que tiene solo un **punto mínimo** (llamado **mínimo global**). Sin embargo, a veces ese punto mínimo no se puede encontrar analíticamente, es decir, resolviendo la ecuación $\\frac{df}{dx}=0$. Esto se puede hacer mediante un método de descenso del gradiente.\n",
        "\n",
        "Para implementar el descenso del gradiente, necesitas comenzar desde algún punto inicial $x_0$. Con el objetivo de encontrar un punto donde la derivada sea igual a cero, quieres moverte \"cuesta abajo\". Calcula la derivada $\\frac{df}{dx}(x_0)$ (llamada **gradiente**) y avanza al siguiente punto utilizando la expresión:\n",
        "\n",
        "$$x_1 = x_0 - \\alpha \\frac{df}{dx}(x_0),\\tag{1}$$\n",
        "\n",
        "donde $\\alpha>0$ es un parámetro llamado **tasa de aprendizaje**. Repite el proceso de manera iterativa. El número de iteraciones $n$ suele ser también un parámetro.\n",
        "\n",
        "Restando $\\frac{df}{dx}(x_0)$ te desplazas \"cuesta abajo\" en contra del aumento de la función, hacia el punto mínimo. Entonces, $\\frac{df}{dx}(x_0)$ generalmente define la dirección del movimiento. El parámetro $\\alpha$ sirve como un factor de escala.\n",
        "\n",
        "¡Ahora es el momento de implementar el método de descenso del gradiente y experimentar con los parámetros!\n",
        "\n",
        "Primero, define la función $f\\left(x\\right)=e^x - \\log(x)$ y su derivada $\\frac{df}{dx}\\left(x\\right)=e^x - \\frac{1}{x}$:\n"
      ],
      "metadata": {
        "id": "H5DJpU-_wALz"
      }
    },
    {
      "cell_type": "code",
      "source": [
        "def f_example_1(x):\n",
        "    return np.exp(x) - np.log(x)\n",
        "\n",
        "def dfdx_example_1(x):\n",
        "    return np.exp(x) - 1/x"
      ],
      "metadata": {
        "id": "d0fAEDdQwe-7"
      },
      "execution_count": 14,
      "outputs": []
    },
    {
      "cell_type": "markdown",
      "source": [
        "Function $f\\left(x\\right)$ has one global minimum. Let's plot the function:"
      ],
      "metadata": {
        "id": "wr_Ruxfxwo6g"
      }
    },
    {
      "cell_type": "code",
      "source": [
        "def gen_x_values(low_limit, high_limit, num_samples):\n",
        "\n",
        "    x_values = np.linspace(low_limit, high_limit, num=num_samples)\n",
        "\n",
        "    return  x_values\n",
        "\n",
        "def plot_f( x, function_Fx , points = None ):\n",
        "\n",
        "    plot1 = plt.subplot2grid(shape=(1, 1), loc=(0, 0))\n",
        "\n",
        "    if (points != None and function_Fx != None ):\n",
        "        plot1.scatter(points,  function_Fx(points), color=\"red\" )\n",
        "\n",
        "    plot1.plot(x, function_Fx(x) )\n",
        "    plot1.grid(visible=True,  axis='both')\n",
        "    plt.show()"
      ],
      "metadata": {
        "id": "62B-2u9dwrCH"
      },
      "execution_count": 15,
      "outputs": []
    },
    {
      "cell_type": "code",
      "source": [
        "x_values = gen_x_values(low_limit=0.01, high_limit = 5, num_samples =50)\n",
        "\n",
        "plot_f(x_values , f_example_1)"
      ],
      "metadata": {
        "colab": {
          "base_uri": "https://localhost:8080/",
          "height": 430
        },
        "id": "k1oHdu91gg40",
        "outputId": "3f824009-c594-4a62-b7f1-7c2cf4ad9887"
      },
      "execution_count": 16,
      "outputs": [
        {
          "output_type": "display_data",
          "data": {
            "text/plain": [
              "<Figure size 640x480 with 1 Axes>"
            ],
            "image/png": "[encoded data removed]"
          },
          "metadata": {}
        }
      ]
    },
    {
      "cell_type": "markdown",
      "source": [
        "El descenso del gradiente se puede implementar en la siguiente función:\n"
      ],
      "metadata": {
        "id": "mLg1r0TGxbVd"
      }
    },
    {
      "cell_type": "code",
      "source": [
        "def gradient_descent(dfdx, x, learning_rate = 0.1, num_iterations = 100):\n",
        "    for iteration in range(num_iterations):\n",
        "        x = x - learning_rate * dfdx(x)\n",
        "    return x"
      ],
      "metadata": {
        "id": "sJqN6p2pxdMJ"
      },
      "execution_count": 22,
      "outputs": []
    },
    {
      "cell_type": "markdown",
      "source": [
        "Ten en cuenta que hay tres parámetros en esta implementación: `num_iterations`, `learning_rate` y el punto inicial `x_initial`. Los parámetros del modelo para métodos como el descenso del gradiente generalmente se encuentran experimentalmente. Por ahora, asume que conoces los parámetros que funcionarán en este modelo; verás la discusión sobre eso más adelante. Para optimizar la función, configura los parámetros y llama a la función definida `gradient_descent`:\n"
      ],
      "metadata": {
        "id": "o7difFCNyHJm"
      }
    },
    {
      "cell_type": "code",
      "source": [
        "num_iterations = 25; learning_rate = 0.1; x_initial = 1.6\n",
        "\n",
        "print(\"Gradient descent result: x_min =\", gradient_descent(dfdx_example_1, x_initial, learning_rate, num_iterations))"
      ],
      "metadata": {
        "colab": {
          "base_uri": "https://localhost:8080/"
        },
        "id": "R7dFw_O8yKEc",
        "outputId": "cfcc5c37-0701-47ec-8a98-2fd3e792cf84"
      },
      "execution_count": 23,
      "outputs": [
        {
          "output_type": "stream",
          "name": "stdout",
          "text": [
            "Gradient descent result: x_min = 0.5671434156768685\n"
          ]
        }
      ]
    },
    {
      "cell_type": "markdown",
      "source": [
        "\n",
        "¿Qué sucede si algunos de los parámetros se cambian? ¿El método siempre funcionará? Descomenta las líneas en la celda de abajo y vuelve a ejecutar el código para investigar qué sucede si se eligen otros valores de parámetros. Intenta investigar y analizar los resultados. Puedes leer algunos comentarios a continuación.\n"
      ],
      "metadata": {
        "id": "CKOP6jU9lSLa"
      }
    },
    {
      "cell_type": "code",
      "source": [
        "x_values = gen_x_values(low_limit=0.01, high_limit = 5, num_samples =50)\n",
        "\n",
        "def gradient_descent(dfdx_example_1, x_initial, learning_rate, num_iterations):\n",
        "\n",
        "    new_x  = x_initial\n",
        "\n",
        "    x_array = []\n",
        "\n",
        "    for idx in range(num_iterations):\n",
        "        new_x = new_x - learning_rate*dfdx_example_1(new_x)\n",
        "        x_array.append(new_x)\n",
        "\n",
        "    print('x_values: {}', x_array)\n",
        "    return x_array"
      ],
      "metadata": {
        "id": "o5_TwDd1l0Ao"
      },
      "execution_count": 24,
      "outputs": []
    },
    {
      "cell_type": "code",
      "source": [
        "#num_iterations = 25; learning_rate = 0.1; x_initial = 1.6\n",
        "#num_iterations = 25; learning_rate = 0.3; x_initial = 1.6\n",
        "#num_iterations = 25; learning_rate = 0.5; x_initial = 1.6\n",
        "#num_iterations = 50; learning_rate = 0.04; x_initial = 1.6\n",
        "num_iterations = 75; learning_rate = 0.04; x_initial = 1.6\n",
        "# num_iterations = 25; learning_rate = 0.1; x_initial = 0.05\n",
        "# num_iterations = 25; learning_rate = 0.1; x_initial = 0.03\n",
        "# num_iterations = 25; learning_rate = 0.1; x_initial = 0.02\n",
        "\n",
        "x_grad = gradient_descent(dfdx_example_1, x_initial, learning_rate, num_iterations)\n",
        "\n",
        "print(\"Minimim value of cost function: \" + str( np.min(x_grad)) )\n"
      ],
      "metadata": {
        "colab": {
          "base_uri": "https://localhost:8080/"
        },
        "id": "7jXQfnRelshh",
        "outputId": "3a6eb6ca-871e-4158-8f8e-38193e9a2ba5"
      },
      "execution_count": 25,
      "outputs": [
        {
          "output_type": "stream",
          "name": "stdout",
          "text": [
            "x_values: {} [1.4268787030241954, 1.2882848572002126, 1.1742714450095697, 1.07890373376055, 0.9983202771776849, 0.9298387910967498, 0.8714929756822105, 0.821772138251024, 0.7794663499483764, 0.7435711733935237, 0.7132282665053238, 0.6876885679367768, 0.6662899316658077, 0.6484438410002923, 0.6336274943230152, 0.6213787092883477, 0.6112919813037396, 0.6030147304097272, 0.5962432902532547, 0.5907185402544143, 0.5862212789693455, 0.5825675186123283, 0.5796038874396385, 0.5772032931119289, 0.5752609517121043, 0.5736908393998663, 0.5724225843915914, 0.5713987884239428, 0.570572748487126, 0.5699065394962884, 0.5693694145103102, 0.5689364791222185, 0.5685875991556276, 0.5683065046528469, 0.5680800575455327, 0.5678976548563679, 0.5677507434952075, 0.5676324265317704, 0.567537144187329, 0.5674604156842068, 0.5673986305504681, 0.5673488800402869, 0.567308821046573, 0.5672765663002101, 0.5672505958153731, 0.5672296854938874, 0.5672128495793436, 0.5671992942844157, 0.5671883804285356, 0.5671795933394349, 0.5671725186090955, 0.5671668225671637, 0.5671622365550538, 0.5671585442617194, 0.5671555715255054, 0.5671531781221818, 0.5671512511525376, 0.5671496997180983, 0.5671484506341216, 0.5671474449778445, 0.5671466353092832, 0.5671459834335656, 0.5671454585992944, 0.567145036047985, 0.5671446958461722, 0.5671444219451082, 0.5671442014237015, 0.5671440238789902, 0.5671438809353998, 0.5671437658496369, 0.5671436731925824, 0.5671435985931783, 0.5671435385322265, 0.5671434901763736, 0.5671434512444488]\n",
            "Minimim value of cost function: 0.5671434512444488\n"
          ]
        }
      ]
    },
    {
      "cell_type": "code",
      "source": [
        "x_grad = gradient_descent(dfdx_example_1, x_initial, learning_rate, num_iterations)\n",
        "\n",
        "plot_f( x_values, f_example_1 , points = x_grad)"
      ],
      "metadata": {
        "colab": {
          "base_uri": "https://localhost:8080/",
          "height": 468
        },
        "id": "nS7S9Rjqr7FP",
        "outputId": "0d581199-7670-4bc6-8b5f-953c9e146d26"
      },
      "execution_count": 26,
      "outputs": [
        {
          "output_type": "stream",
          "name": "stdout",
          "text": [
            "x_values: {} [1.4268787030241954, 1.2882848572002126, 1.1742714450095697, 1.07890373376055, 0.9983202771776849, 0.9298387910967498, 0.8714929756822105, 0.821772138251024, 0.7794663499483764, 0.7435711733935237, 0.7132282665053238, 0.6876885679367768, 0.6662899316658077, 0.6484438410002923, 0.6336274943230152, 0.6213787092883477, 0.6112919813037396, 0.6030147304097272, 0.5962432902532547, 0.5907185402544143, 0.5862212789693455, 0.5825675186123283, 0.5796038874396385, 0.5772032931119289, 0.5752609517121043, 0.5736908393998663, 0.5724225843915914, 0.5713987884239428, 0.570572748487126, 0.5699065394962884, 0.5693694145103102, 0.5689364791222185, 0.5685875991556276, 0.5683065046528469, 0.5680800575455327, 0.5678976548563679, 0.5677507434952075, 0.5676324265317704, 0.567537144187329, 0.5674604156842068, 0.5673986305504681, 0.5673488800402869, 0.567308821046573, 0.5672765663002101, 0.5672505958153731, 0.5672296854938874, 0.5672128495793436, 0.5671992942844157, 0.5671883804285356, 0.5671795933394349, 0.5671725186090955, 0.5671668225671637, 0.5671622365550538, 0.5671585442617194, 0.5671555715255054, 0.5671531781221818, 0.5671512511525376, 0.5671496997180983, 0.5671484506341216, 0.5671474449778445, 0.5671466353092832, 0.5671459834335656, 0.5671454585992944, 0.567145036047985, 0.5671446958461722, 0.5671444219451082, 0.5671442014237015, 0.5671440238789902, 0.5671438809353998, 0.5671437658496369, 0.5671436731925824, 0.5671435985931783, 0.5671435385322265, 0.5671434901763736, 0.5671434512444488]\n"
          ]
        },
        {
          "output_type": "display_data",
          "data": {
            "text/plain": [
              "<Figure size 640x480 with 1 Axes>"
            ],
            "image/png": "[encoded data removed]"
          },
          "metadata": {}
        }
      ]
    }
  ],
  "metadata": {
    "accelerator": "GPU",
    "colab": {
      "provenance": []
    },
    "kernelspec": {
      "display_name": "Python 3",
      "language": "python",
      "name": "python3"
    },
    "language_info": {
      "codemirror_mode": {
        "name": "ipython",
        "version": 3
      },
      "file_extension": ".py",
      "mimetype": "text/x-python",
      "name": "python",
      "nbconvert_exporter": "python",
      "pygments_lexer": "ipython3",
      "version": "3.7.0"
    }
  },
  "nbformat": 4,
  "nbformat_minor": 0
}